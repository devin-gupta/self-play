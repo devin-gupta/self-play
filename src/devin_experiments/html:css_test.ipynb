{
 "cells": [
  {
   "cell_type": "code",
   "execution_count": null,
   "id": "695e1124",
   "metadata": {},
   "outputs": [
    {
     "ename": "",
     "evalue": "",
     "output_type": "error",
     "traceback": [
      "\u001b[1;31mRunning cells with '.venv (Python 3.12.9)' requires the ipykernel package.\n",
      "\u001b[1;31mInstall 'ipykernel' into the Python environment. \n",
      "\u001b[1;31mCommand: '/Users/devg/self-play/.venv/bin/python -m pip install ipykernel -U --force-reinstall'"
     ]
    }
   ],
   "source": [
    "from playwright.sync_api import sync_playwright\n",
    "\n",
    "def html_to_png(html_str, output_path=\"output.png\", width=800, height=600):\n",
    "    with sync_playwright() as p:\n",
    "        browser = p.chromium.launch()\n",
    "        page = browser.new_page(viewport={\"width\": width, \"height\": height})\n",
    "        page.set_content(html_str)\n",
    "        page.screenshot(path=output_path, full_page=True)\n",
    "        browser.close()\n",
    "\n",
    "# Example usage\n",
    "html = \"\"\"\n",
    "<!DOCTYPE html>\n",
    "<html>\n",
    "<head>\n",
    "  <style>\n",
    "    body { font-family: sans-serif; background: #f0f0f0; }\n",
    "    h1 { color: tomato; text-align: center; padding-top: 200px; }\n",
    "  </style>\n",
    "</head>\n",
    "<body>\n",
    "  <h1>Hello, image!</h1>\n",
    "</body>\n",
    "</html>\n",
    "\"\"\"\n",
    "html_to_png(html, \"example_output.png\")\n"
   ]
  },
  {
   "cell_type": "code",
   "execution_count": null,
   "id": "8f872528",
   "metadata": {},
   "outputs": [],
   "source": []
  }
 ],
 "metadata": {
  "kernelspec": {
   "display_name": ".venv",
   "language": "python",
   "name": "python3"
  },
  "language_info": {
   "name": "python",
   "version": "3.12.9"
  }
 },
 "nbformat": 4,
 "nbformat_minor": 5
}
